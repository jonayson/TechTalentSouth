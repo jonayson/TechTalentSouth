{
 "cells": [
  {
   "cell_type": "markdown",
   "metadata": {},
   "source": [
    "Data Science Fundamentals: Python |\n",
    "[Table of Contents](../index.ipynb)\n",
    "- - - \n",
    "<!--NAVIGATION-->\n",
    "Module 9. | **[Introduction to NumPy](./01_introduction_NumPy.ipynb)** | [The Basics](./02_basics_NumPy.ipynb) | [Exercises](./03_NumPy_exercises.ipynb) | [Tutorial](./05_NumPy_Tutorial.ipynb)"
   ]
  },
  {
   "cell_type": "markdown",
   "metadata": {},
   "source": [
    "- - -\n",
    "\n",
    "## Using [Poetry](https://python-poetry.org/) for Python Package Installation\n",
    "**(Optional)**"
   ]
  },
  {
   "cell_type": "markdown",
   "metadata": {},
   "source": [
    "[Poetry](https://python-poetry.org/) is a tool for dependency management and packaging in Python. It allows you to declare the libraries your project depends on and it will manage (install/update) them for you."
   ]
  },
  {
   "cell_type": "markdown",
   "metadata": {},
   "source": [
    "### Develop\n",
    "\n",
    "Poetry comes with all the tools you might need to manage your projects in a deterministic way."
   ]
  },
  {
   "cell_type": "markdown",
   "metadata": {},
   "source": [
    "![develop](files/develop_poetry.png)"
   ]
  },
  {
   "cell_type": "markdown",
   "metadata": {},
   "source": [
    "### Build\n",
    "\n",
    "Easily build and package your projects with a single command."
   ]
  },
  {
   "cell_type": "markdown",
   "metadata": {},
   "source": [
    "![build](files/build_poetry.png)"
   ]
  },
  {
   "cell_type": "markdown",
   "metadata": {},
   "source": [
    "### Publish\n",
    "\n",
    "Make your work known by publishing it to PyPI"
   ]
  },
  {
   "cell_type": "markdown",
   "metadata": {},
   "source": [
    "![publish](files/publish_poetry.png)"
   ]
  },
  {
   "cell_type": "markdown",
   "metadata": {},
   "source": [
    "### Track"
   ]
  },
  {
   "cell_type": "markdown",
   "metadata": {},
   "source": [
    "Having an insight of your project's dependencies is just one command away."
   ]
  },
  {
   "cell_type": "markdown",
   "metadata": {},
   "source": [
    "![track](files/track_poetry.png)"
   ]
  },
  {
   "cell_type": "markdown",
   "metadata": {},
   "source": [
    "### Installation of Poetry"
   ]
  },
  {
   "cell_type": "code",
   "execution_count": 1,
   "metadata": {},
   "outputs": [
    {
     "name": "stdout",
     "output_type": "stream",
     "text": [
      "Collecting poetry\n",
      "  Downloading poetry-1.1.7-py2.py3-none-any.whl (173 kB)\n",
      "\u001b[K     |████████████████████████████████| 173 kB 4.3 MB/s eta 0:00:01\n",
      "\u001b[?25hRequirement already satisfied: pexpect<5.0.0,>=4.7.0 in /Users/jonathanayson/opt/anaconda3/lib/python3.8/site-packages (from poetry) (4.8.0)\n",
      "Collecting keyring<22.0.0,>=21.2.0\n",
      "  Downloading keyring-21.8.0-py3-none-any.whl (32 kB)\n",
      "Requirement already satisfied: packaging<21.0,>=20.4 in /Users/jonathanayson/opt/anaconda3/lib/python3.8/site-packages (from poetry) (20.9)\n",
      "Collecting tomlkit<1.0.0,>=0.7.0\n",
      "  Downloading tomlkit-0.7.2-py2.py3-none-any.whl (32 kB)\n",
      "Collecting clikit<0.7.0,>=0.6.2\n",
      "  Downloading clikit-0.6.2-py2.py3-none-any.whl (91 kB)\n",
      "\u001b[K     |████████████████████████████████| 91 kB 9.7 MB/s  eta 0:00:01\n",
      "\u001b[?25hCollecting requests-toolbelt<0.10.0,>=0.9.1\n",
      "  Downloading requests_toolbelt-0.9.1-py2.py3-none-any.whl (54 kB)\n",
      "\u001b[K     |████████████████████████████████| 54 kB 6.9 MB/s  eta 0:00:01\n",
      "\u001b[?25hCollecting shellingham<2.0,>=1.1\n",
      "  Downloading shellingham-1.4.0-py2.py3-none-any.whl (9.4 kB)\n",
      "Collecting cachy<0.4.0,>=0.3.0\n",
      "  Downloading cachy-0.3.0-py2.py3-none-any.whl (20 kB)\n",
      "Collecting poetry-core<1.1.0,>=1.0.3\n",
      "  Downloading poetry_core-1.0.3-py2.py3-none-any.whl (424 kB)\n",
      "\u001b[K     |████████████████████████████████| 424 kB 9.7 MB/s eta 0:00:01\n",
      "\u001b[?25hRequirement already satisfied: requests<3.0,>=2.18 in /Users/jonathanayson/opt/anaconda3/lib/python3.8/site-packages (from poetry) (2.25.1)\n",
      "Collecting cleo<0.9.0,>=0.8.1\n",
      "  Downloading cleo-0.8.1-py2.py3-none-any.whl (21 kB)\n",
      "Requirement already satisfied: pkginfo<2.0,>=1.4 in /Users/jonathanayson/opt/anaconda3/lib/python3.8/site-packages (from poetry) (1.7.0)\n",
      "Requirement already satisfied: html5lib<2.0,>=1.0 in /Users/jonathanayson/opt/anaconda3/lib/python3.8/site-packages (from poetry) (1.1)\n",
      "Collecting crashtest<0.4.0,>=0.3.0\n",
      "  Downloading crashtest-0.3.1-py3-none-any.whl (7.0 kB)\n",
      "Collecting cachecontrol[filecache]<0.13.0,>=0.12.4\n",
      "  Downloading CacheControl-0.12.6-py2.py3-none-any.whl (19 kB)\n",
      "Collecting virtualenv<21.0.0,>=20.0.26\n",
      "  Downloading virtualenv-20.6.0-py2.py3-none-any.whl (5.3 MB)\n",
      "\u001b[K     |████████████████████████████████| 5.3 MB 22.4 MB/s eta 0:00:01\n",
      "\u001b[?25hRequirement already satisfied: msgpack>=0.5.2 in /Users/jonathanayson/opt/anaconda3/lib/python3.8/site-packages (from cachecontrol[filecache]<0.13.0,>=0.12.4->poetry) (1.0.2)\n",
      "Collecting lockfile>=0.9\n",
      "  Downloading lockfile-0.12.2-py2.py3-none-any.whl (13 kB)\n",
      "Collecting pylev<2.0,>=1.3\n",
      "  Downloading pylev-1.4.0-py2.py3-none-any.whl (6.1 kB)\n",
      "Collecting pastel<0.3.0,>=0.2.0\n",
      "  Downloading pastel-0.2.1-py2.py3-none-any.whl (6.0 kB)\n",
      "Requirement already satisfied: webencodings in /Users/jonathanayson/opt/anaconda3/lib/python3.8/site-packages (from html5lib<2.0,>=1.0->poetry) (0.5.1)\n",
      "Requirement already satisfied: six>=1.9 in /Users/jonathanayson/opt/anaconda3/lib/python3.8/site-packages (from html5lib<2.0,>=1.0->poetry) (1.15.0)\n",
      "Requirement already satisfied: pyparsing>=2.0.2 in /Users/jonathanayson/opt/anaconda3/lib/python3.8/site-packages (from packaging<21.0,>=20.4->poetry) (2.4.7)\n",
      "Requirement already satisfied: ptyprocess>=0.5 in /Users/jonathanayson/opt/anaconda3/lib/python3.8/site-packages (from pexpect<5.0.0,>=4.7.0->poetry) (0.7.0)\n",
      "Requirement already satisfied: certifi>=2017.4.17 in /Users/jonathanayson/opt/anaconda3/lib/python3.8/site-packages (from requests<3.0,>=2.18->poetry) (2020.12.5)\n",
      "Requirement already satisfied: idna<3,>=2.5 in /Users/jonathanayson/opt/anaconda3/lib/python3.8/site-packages (from requests<3.0,>=2.18->poetry) (2.10)\n",
      "Requirement already satisfied: chardet<5,>=3.0.2 in /Users/jonathanayson/opt/anaconda3/lib/python3.8/site-packages (from requests<3.0,>=2.18->poetry) (4.0.0)\n",
      "Requirement already satisfied: urllib3<1.27,>=1.21.1 in /Users/jonathanayson/opt/anaconda3/lib/python3.8/site-packages (from requests<3.0,>=2.18->poetry) (1.26.4)\n",
      "Collecting distlib<1,>=0.3.1\n",
      "  Downloading distlib-0.3.2-py2.py3-none-any.whl (338 kB)\n",
      "\u001b[K     |████████████████████████████████| 338 kB 43.5 MB/s eta 0:00:01\n",
      "\u001b[?25hCollecting backports.entry-points-selectable>=1.0.4\n",
      "  Downloading backports.entry_points_selectable-1.1.0-py2.py3-none-any.whl (6.2 kB)\n",
      "Requirement already satisfied: filelock<4,>=3.0.0 in /Users/jonathanayson/opt/anaconda3/lib/python3.8/site-packages (from virtualenv<21.0.0,>=20.0.26->poetry) (3.0.12)\n",
      "Collecting platformdirs<3,>=2\n",
      "  Downloading platformdirs-2.1.0-py3-none-any.whl (13 kB)\n",
      "Installing collected packages: pylev, pastel, crashtest, platformdirs, lockfile, distlib, clikit, cachecontrol, backports.entry-points-selectable, virtualenv, tomlkit, shellingham, requests-toolbelt, poetry-core, keyring, cleo, cachy, poetry\n",
      "  Attempting uninstall: keyring\n",
      "    Found existing installation: keyring 22.3.0\n",
      "    Uninstalling keyring-22.3.0:\n",
      "      Successfully uninstalled keyring-22.3.0\n",
      "\u001b[31mERROR: pip's dependency resolver does not currently take into account all the packages that are installed. This behaviour is the source of the following dependency conflicts.\n",
      "spyder 4.2.5 requires pyqt5<5.13, which is not installed.\n",
      "spyder 4.2.5 requires pyqtwebengine<5.13, which is not installed.\u001b[0m\n",
      "Successfully installed backports.entry-points-selectable-1.1.0 cachecontrol-0.12.6 cachy-0.3.0 cleo-0.8.1 clikit-0.6.2 crashtest-0.3.1 distlib-0.3.2 keyring-21.8.0 lockfile-0.12.2 pastel-0.2.1 platformdirs-2.1.0 poetry-1.1.7 poetry-core-1.0.3 pylev-1.4.0 requests-toolbelt-0.9.1 shellingham-1.4.0 tomlkit-0.7.2 virtualenv-20.6.0\n",
      "Note: you may need to restart the kernel to use updated packages.\n"
     ]
    }
   ],
   "source": [
    "pip install poetry"
   ]
  },
  {
   "cell_type": "markdown",
   "metadata": {},
   "source": [
    "**Linux / MacOS Installation**"
   ]
  },
  {
   "cell_type": "raw",
   "metadata": {},
   "source": [
    "curl -sSL https://raw.githubusercontent.com/python-poetry/poetry/master/get-poetry.py | python"
   ]
  },
  {
   "cell_type": "markdown",
   "metadata": {},
   "source": [
    "**Windows Powershell Installation**\n",
    "\n",
    "Run as Administrator"
   ]
  },
  {
   "cell_type": "raw",
   "metadata": {},
   "source": [
    "(Invoke-WebRequest -Uri https://raw.githubusercontent.com/python-poetry/poetry/master/get-poetry.py -UseBasicParsing).Content | python"
   ]
  },
  {
   "cell_type": "markdown",
   "metadata": {},
   "source": [
    "The installer installs the poetry tool to Poetry's bin directory. On Unix it is located at ```$HOME/.poetry/bin``` and on Windows at ```%USERPROFILE%\\.poetry\\bin```."
   ]
  },
  {
   "cell_type": "code",
   "execution_count": 2,
   "metadata": {},
   "outputs": [
    {
     "ename": "NameError",
     "evalue": "name 'poetry' is not defined",
     "output_type": "error",
     "traceback": [
      "\u001b[1;31m---------------------------------------------------------------------------\u001b[0m",
      "\u001b[1;31mNameError\u001b[0m                                 Traceback (most recent call last)",
      "\u001b[1;32m<ipython-input-2-4666e7fa95ae>\u001b[0m in \u001b[0;36m<module>\u001b[1;34m\u001b[0m\n\u001b[1;32m----> 1\u001b[1;33m \u001b[0mpoetry\u001b[0m \u001b[1;33m-\u001b[0m\u001b[1;33m-\u001b[0m\u001b[0mversion\u001b[0m\u001b[1;33m\u001b[0m\u001b[1;33m\u001b[0m\u001b[0m\n\u001b[0m",
      "\u001b[1;31mNameError\u001b[0m: name 'poetry' is not defined"
     ]
    }
   ],
   "source": [
    "poetry --version"
   ]
  },
  {
   "cell_type": "markdown",
   "metadata": {},
   "source": [
    "### Creation of a Python Package with Poetry"
   ]
  },
  {
   "cell_type": "markdown",
   "metadata": {},
   "source": [
    "Create a package with Poetry, run ```poetry new``` along with the name of the directory that will house the package:"
   ]
  },
  {
   "cell_type": "raw",
   "metadata": {},
   "source": [
    "cd datascience/python/09_mod_numpy\n",
    "\n",
    "poetry new flake8-markdown"
   ]
  },
  {
   "cell_type": "markdown",
   "metadata": {},
   "source": [
    "See directory structure below:"
   ]
  },
  {
   "cell_type": "markdown",
   "metadata": {},
   "source": [
    "![poetry directory](files/poetry_directory.png)"
   ]
  },
  {
   "cell_type": "markdown",
   "metadata": {},
   "source": [
    "### Customizing Python Package with Poetry"
   ]
  },
  {
   "cell_type": "markdown",
   "metadata": {},
   "source": [
    "Here's the initial ```pyproject.toml``` file:"
   ]
  },
  {
   "cell_type": "markdown",
   "metadata": {},
   "source": [
    "![pyproject.toml](files/poetry_pyproject_initial.png)"
   ]
  },
  {
   "cell_type": "markdown",
   "metadata": {},
   "source": [
    "Here's the finished ```pyproject.toml``` file:"
   ]
  },
  {
   "cell_type": "markdown",
   "metadata": {},
   "source": [
    "![pyproject.toml](files/poetry_pyproject_customized.png)"
   ]
  },
  {
   "cell_type": "markdown",
   "metadata": {},
   "source": [
    "### Build a Python Package with Poetry"
   ]
  },
  {
   "cell_type": "markdown",
   "metadata": {},
   "source": [
    "#### TestPyPI\n",
    "\n",
    "TestPyPI is \"a separate instance of the Python Package Index that allows you to try distribution tools and processes without affecting the real index\". Uploading packages to TestPyPI and installing from there can help package maintainers avoid shipping broken versions of their packages."
   ]
  },
  {
   "cell_type": "markdown",
   "metadata": {},
   "source": [
    "First, build the package:"
   ]
  },
  {
   "cell_type": "raw",
   "metadata": {},
   "source": [
    "poetry build"
   ]
  },
  {
   "cell_type": "markdown",
   "metadata": {},
   "source": [
    "#### Test Package Build"
   ]
  },
  {
   "cell_type": "markdown",
   "metadata": {},
   "source": [
    "Must [create a TestPyPI Registration](https://test.pypi.org/account/register/) before uploading packages to the test package index."
   ]
  },
  {
   "cell_type": "raw",
   "metadata": {},
   "source": [
    "poetry config repositories.testpypi https://test.pypi.org/legacy/"
   ]
  },
  {
   "cell_type": "markdown",
   "metadata": {},
   "source": [
    "Publish the package to Test PyPI:"
   ]
  },
  {
   "cell_type": "raw",
   "metadata": {},
   "source": [
    "$ poetry publish -r testpypi\n",
    "\n",
    "Publishing flake8-markdown (0.1.1) to testpypi\n",
    "Username:\n",
    "Password:\n",
    "\n",
    " - Uploading flake8-markdown-0.1.1.tar.gz 100%\n",
    " - Uploading flake8_markdown-0.1.1-py3-none-any.whl 100%"
   ]
  },
  {
   "cell_type": "markdown",
   "metadata": {},
   "source": [
    "Finally, verify that the package looks and works as intended by viewing it on [testpypi.pypi.org](testpypi.pypi.org) and installing the test version in a separate virtual environment:"
   ]
  },
  {
   "cell_type": "code",
   "execution_count": null,
   "metadata": {},
   "outputs": [],
   "source": [
    "pip install --index-url https://test.pypi.org/simple/ flake8-markdown"
   ]
  },
  {
   "cell_type": "markdown",
   "metadata": {},
   "source": [
    "#### Formal Package Build\n",
    "**PyPI**"
   ]
  },
  {
   "cell_type": "markdown",
   "metadata": {},
   "source": [
    "Must [create a PyPI Account](https://pypi.org/account/register/) before uploading packages to the PyPI package index."
   ]
  },
  {
   "cell_type": "markdown",
   "metadata": {},
   "source": [
    "If the package looks great on Test PyPI and works to boot, publishing to PyPI is as easy as:"
   ]
  },
  {
   "cell_type": "raw",
   "metadata": {},
   "source": [
    "poetry publish"
   ]
  },
  {
   "cell_type": "markdown",
   "metadata": {},
   "source": [
    "# Introduction to NumPy"
   ]
  },
  {
   "cell_type": "markdown",
   "metadata": {},
   "source": [
    "**What is a Python NumPy?**\n",
    "\n",
    "NumPy is a Python package which stands for ‘Numerical Python’. It is the core library for scientific computing, which contains a powerful n-dimensional array object, provide tools for integrating C, C++ etc. It is also useful in linear algebra, random number capability etc. NumPy array can also be used as an efficient multi-dimensional container for generic data. Now, let me tell you what exactly is a python numpy array.\n",
    "\n",
    "**NumPy Array**: Numpy array is a powerful N-dimensional array object which is in the form of rows and columns. We can initialize numpy arrays from nested Python lists and access it elements.\n",
    "\n",
    "- - -"
   ]
  },
  {
   "cell_type": "markdown",
   "metadata": {},
   "source": [
    "This chapter outlines techniques for effectively loading, storing, and manipulating in-memory data in Python.\n",
    "The topic is very broad: datasets can come from a wide range of sources and a wide range of formats, including be collections of documents, collections of images, collections of sound clips, collections of numerical measurements, or nearly anything else.\n",
    "Despite this apparent heterogeneity, it will help us to think of all data fundamentally as arrays of numbers.\n",
    "\n",
    "For example, images–particularly digital images–can be thought of as simply two-dimensional arrays of numbers representing pixel brightness across the area.\n",
    "Sound clips can be thought of as one-dimensional arrays of intensity versus time.\n",
    "Text can be converted in various ways into numerical representations, perhaps binary digits representing the frequency of certain words or pairs of words.\n",
    "No matter what the data are, the first step in making it analyzable will be to transform them into arrays of numbers.\n",
    "\n",
    "For this reason, efficient storage and manipulation of numerical arrays is absolutely fundamental to the process of doing data science.\n",
    "We'll now take a look at the specialized tools that Python has for handling such numerical arrays: the NumPy package.\n",
    "\n",
    "This chapter will cover NumPy in detail. NumPy (short for *Numerical Python*) provides an efficient interface to store and operate on dense data buffers.\n",
    "In some ways, NumPy arrays are like Python's built-in ``list`` type, but NumPy arrays provide much more efficient storage and data operations as the arrays grow larger in size.\n",
    "NumPy arrays form the core of nearly the entire ecosystem of data science tools in Python, so time spent learning to use NumPy effectively will be valuable no matter what aspect of data science interests you.\n",
    "\n",
    "If you followed the advice outlined in the Preface and installed the Anaconda stack, you already have NumPy installed and ready to go."
   ]
  },
  {
   "cell_type": "raw",
   "metadata": {},
   "source": [
    "pip install numpy"
   ]
  },
  {
   "cell_type": "markdown",
   "metadata": {},
   "source": [
    "## Using NumPy"
   ]
  },
  {
   "cell_type": "markdown",
   "metadata": {},
   "source": [
    "If you're more the do-it-yourself type, you can go to http://www.numpy.org/ and follow the installation instructions found there.\n",
    "Once you do, you can import NumPy and double-check the version:"
   ]
  },
  {
   "cell_type": "code",
   "execution_count": 2,
   "metadata": {},
   "outputs": [
    {
     "data": {
      "text/plain": [
       "'1.20.1'"
      ]
     },
     "execution_count": 2,
     "metadata": {},
     "output_type": "execute_result"
    }
   ],
   "source": [
    "import numpy\n",
    "numpy.__version__"
   ]
  },
  {
   "cell_type": "markdown",
   "metadata": {},
   "source": [
    "For the pieces of the package discussed here, I'd recommend NumPy version 1.18 or later.\n",
    "By convention, you'll find that most people in the SciPy/PyData world will import NumPy using ``np`` as an alias:"
   ]
  },
  {
   "cell_type": "code",
   "execution_count": 3,
   "metadata": {},
   "outputs": [],
   "source": [
    "import numpy as np"
   ]
  },
  {
   "cell_type": "markdown",
   "metadata": {},
   "source": [
    "This is the way we will import and use NumPy."
   ]
  },
  {
   "cell_type": "markdown",
   "metadata": {},
   "source": [
    "## Reminder about Built In Documentation\n",
    "\n",
    "As you read through this chapter, don't forget that IPython gives you the ability to quickly explore the contents of a package (by using the tab-completion feature), as well as the documentation of various functions (using the ``?`` character – Refer back to [Help and Documentation in IPython](01.01-Help-And-Documentation.ipynb)).\n",
    "\n",
    "For example, to display all the contents of the numpy namespace, you can type this:\n",
    "\n",
    "```ipython\n",
    "In [3]: np.<TAB>\n",
    "```\n",
    "\n",
    "And to display NumPy's built-in documentation, you can use this:\n",
    "\n",
    "```ipython\n",
    "In [4]: np?\n",
    "```\n",
    "\n",
    "More detailed documentation, along with tutorials and other resources, can be found at http://www.numpy.org."
   ]
  },
  {
   "cell_type": "code",
   "execution_count": 4,
   "metadata": {},
   "outputs": [],
   "source": [
    "np?"
   ]
  },
  {
   "cell_type": "markdown",
   "metadata": {},
   "source": [
    "- - - \n",
    "<!--NAVIGATION-->\n",
    "Module 9. | **[Introduction to NumPy](./01_introduction_NumPy.ipynb)** | [The Basics](02_basics_NumPy.ipynb) | [Exercises](./03_NumPy_exercises.ipynb)\n",
    "<br>\n",
    "[Top](#)"
   ]
  },
  {
   "cell_type": "markdown",
   "metadata": {},
   "source": [
    "- - -\n",
    "\n",
    "Copyright © 2020 Qualex Consulting Services Incorporated."
   ]
  },
  {
   "cell_type": "code",
   "execution_count": null,
   "metadata": {},
   "outputs": [],
   "source": []
  }
 ],
 "metadata": {
  "anaconda-cloud": {},
  "kernelspec": {
   "display_name": "Python 3",
   "language": "python",
   "name": "python3"
  },
  "language_info": {
   "codemirror_mode": {
    "name": "ipython",
    "version": 3
   },
   "file_extension": ".py",
   "mimetype": "text/x-python",
   "name": "python",
   "nbconvert_exporter": "python",
   "pygments_lexer": "ipython3",
   "version": "3.8.8"
  }
 },
 "nbformat": 4,
 "nbformat_minor": 1
}
